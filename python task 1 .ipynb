{
 "cells": [
  {
   "cell_type": "markdown",
   "id": "dc249332-e86e-46b1-b8b4-ae6353f0e03b",
   "metadata": {},
   "source": [
    "Q.1> Create a function which will take a list as an argument and return the product of all the numbers after creating a flat list."
   ]
  },
  {
   "cell_type": "markdown",
   "id": "d539a603-c8b8-4834-bc2a-fb5ba43734d4",
   "metadata": {},
   "source": [
    "Use the below-given list as an argument for your function.\n",
    "\n",
    "\n",
    "list1 = [1,2,3,4, [44,55,66, True], False, (34,56,78,89,34), {1,2,3,3,2,1}, {1:34, \"key2\": [55, 67, 78, 89], 4: (45, \n",
    "22, 61, 34)}, [56, 'data science'], 'Machine Learning']'''"
   ]
  },
  {
   "cell_type": "code",
   "execution_count": 1,
   "id": "72b98492-1567-4a0d-a9ad-119a28be8c3d",
   "metadata": {},
   "outputs": [
    {
     "name": "stdout",
     "output_type": "stream",
     "text": [
      "2315262738624675840\n"
     ]
    }
   ],
   "source": [
    "from typing import List\n",
    "\n",
    "def get_product(lst: List):\n",
    "    flat_list = []\n",
    "    def flatten(lst):\n",
    "        for item in lst:\n",
    "            if type(item) in (list, tuple, set, dict):\n",
    "                flatten(item)\n",
    "            elif type(item) == int:\n",
    "                flat_list.append(item)\n",
    "    flatten(lst)\n",
    "    product = 1\n",
    "    for num in flat_list:\n",
    "        product *= num\n",
    "    return product\n",
    "\n",
    "list1 = [1,2,3,4, [44,55,66, True], False, (34,56,78,89,34), {1,2,3,3,2,1}, {1:34, \"key2\": [55, 67, 78, 89], 4: (45, 22, 61, 34)}, [56, 'data science'], 'Machine Learning']\n",
    "print(get_product(list1))"
   ]
  },
  {
   "cell_type": "markdown",
   "id": "79464825-4d68-4678-a5d1-a8307c21bf78",
   "metadata": {},
   "source": [
    "''Q.2> Write a python program for encrypting a message sent to you by your friend. The logic of encryption should be such that, for a the output should be z. For b, the output should be y. For c, the output should be x respectively. Also, the whitespace should be replaced with a dollar sign. Keep the punctuation marks unchanged. Input Sentence: I want to become a Data Scientist. Encrypt the above input sentence using the program you just created'''"
   ]
  },
  {
   "cell_type": "code",
   "execution_count": 2,
   "id": "3636fdbf-b328-4ba9-84f9-e3032c07daa7",
   "metadata": {},
   "outputs": [
    {
     "name": "stdout",
     "output_type": "stream",
     "text": [
      "Encrypted sentence: r$dzmg$gl$yvxlnv$z$wzgz$hxrvmgrhg.\n"
     ]
    }
   ],
   "source": [
    "def encrypt(sentence):\n",
    "  sentence = sentence.lower()\n",
    "  encryption = {}\n",
    "  for i in range(26):\n",
    "    encryption[chr(i + ord('a'))] = chr((25 - i) + ord('a'))\n",
    "  encryption[' '] = '$'\n",
    "  encrypted_sentence = ''\n",
    "  for char in sentence:\n",
    "    if char in encryption:\n",
    "      encrypted_sentence += encryption[char]\n",
    "    else:\n",
    "      encrypted_sentence += char\n",
    "  return encrypted_sentence\n",
    "\n",
    "sentence = \"I want to become a Data Scientist.\"\n",
    "encrypted_sentence = encrypt(sentence)\n",
    "print(\"Encrypted sentence:\", encrypted_sentence)"
   ]
  },
  {
   "cell_type": "code",
   "execution_count": null,
   "id": "2c9dea36-2db1-4c45-be20-42db67573490",
   "metadata": {},
   "outputs": [],
   "source": []
  }
 ],
 "metadata": {
  "kernelspec": {
   "display_name": "Python 3 (ipykernel)",
   "language": "python",
   "name": "python3"
  },
  "language_info": {
   "codemirror_mode": {
    "name": "ipython",
    "version": 3
   },
   "file_extension": ".py",
   "mimetype": "text/x-python",
   "name": "python",
   "nbconvert_exporter": "python",
   "pygments_lexer": "ipython3",
   "version": "3.10.8"
  }
 },
 "nbformat": 4,
 "nbformat_minor": 5
}
